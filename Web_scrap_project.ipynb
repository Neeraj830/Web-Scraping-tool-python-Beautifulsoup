{
 "cells": [
  {
   "cell_type": "markdown",
   "metadata": {},
   "source": [
    "Web site Tags and Meta Data Description"
   ]
  },
  {
   "cell_type": "code",
   "execution_count": 1,
   "metadata": {},
   "outputs": [],
   "source": [
    "#Importing libraries\n",
    "from bs4 import BeautifulSoup\n",
    "import urllib\n",
    "from urllib import request\n",
    "import urllib.request as ur"
   ]
  },
  {
   "cell_type": "code",
   "execution_count": 21,
   "metadata": {},
   "outputs": [
    {
     "name": "stdout",
     "output_type": "stream",
     "text": [
      "Entered URL is :  https://pypi.org/project/beautifulsoup4/\n",
      "Title and Meta data : \n",
      "Website Title is :  beautifulsoup4 · PyPI\n",
      "Meta Tags:\n",
      "Name    : description\n",
      "Content : Screen-scraping library\n",
      "og:url  : https://pypi.org/project/beautifulsoup4/\n",
      "og:site_name  : PyPI\n",
      "og:type  : website\n",
      "og:image  : https://pypi.org/static/images/twitter.abaf4b19.webp\n",
      "Open Graph Title: beautifulsoup4\n",
      "og:description  : Screen-scraping library\n"
     ]
    }
   ],
   "source": [
    "\n",
    "\n",
    "url = input(\"Enter the URL : \")\n",
    "print(\"Entered URL is : \", url)\n",
    "\n",
    "\n",
    "def getTags(tag):\n",
    "    s = ur.urlopen(url)\n",
    "    soup = BeautifulSoup(s.read())\n",
    "    return soup.findAll(tag)\n",
    "\n",
    "def titleandmetaTags():\n",
    "    s = ur.urlopen(url)\n",
    "    soup = BeautifulSoup(s.read())\n",
    "    title = soup.title.string\n",
    "    print(\"Website Title is : \", title)\n",
    "    \n",
    "    meta_description = soup.find_all('meta')\n",
    "    print(\"Meta Tags:\")\n",
    "    for tag in meta_description:\n",
    "        if 'name' in tag.attrs.keys() and tag.attrs['name'].strip().lower() in ['description', 'keywords']:\n",
    "            print ('Name    :', tag.attrs['name'].lower())\n",
    "            print ('Content :', tag.attrs['content'])\n",
    "        elif 'property' in tag.attrs.keys() and tag.attrs['property'].strip().lower() == 'og:title':\n",
    "            print('Open Graph Title:', tag.attrs['content'])\n",
    "        elif 'property' in tag.attrs.keys():\n",
    "            print(tag.attrs['property'].strip().lower(), \" :\", tag.attrs['content'])\n",
    "            # print('Open Graph Title:', tag.attrs['content'])\n",
    "            \n",
    "\n",
    "\n",
    "print(\"Title and Meta data : \")\n",
    "titleandmetaTags()\n",
    "\n",
    "# print(\"tags : \")\n",
    "# tags = getTags('h1')\n",
    "# for tag in tags:\n",
    "#     print(tag.text)\n"
   ]
  },
  {
   "cell_type": "code",
   "execution_count": null,
   "metadata": {},
   "outputs": [],
   "source": []
  }
 ],
 "metadata": {
  "kernelspec": {
   "display_name": "Python 3",
   "language": "python",
   "name": "python3"
  },
  "language_info": {
   "codemirror_mode": {
    "name": "ipython",
    "version": 3
   },
   "file_extension": ".py",
   "mimetype": "text/x-python",
   "name": "python",
   "nbconvert_exporter": "python",
   "pygments_lexer": "ipython3",
   "version": "3.10.11"
  }
 },
 "nbformat": 4,
 "nbformat_minor": 2
}
